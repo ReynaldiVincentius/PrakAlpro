{
 "cells": [
  {
   "cell_type": "code",
   "execution_count": null,
   "metadata": {},
   "outputs": [],
   "source": [
    "#latihan 3.1\n",
    "suhu= input(\"Masukkan suhu tubuh: \")\n",
    "\n",
    "try:\n",
    "    suhu = int(suhu)\n",
    "    if suhu >= 36:\n",
    "        print(\"Anda demam\")\n",
    "    else:\n",
    "        print(\"Anda tidak demam\")\n",
    "        \n",
    "except:\n",
    "    print(\"Inputan yang anda masukan salah\")"
   ]
  },
  {
   "cell_type": "code",
   "execution_count": null,
   "metadata": {},
   "outputs": [],
   "source": [
    "#latihan 3.1\n",
    "bilangan = input(\"Masukkan suatu bilangan: \")\n",
    "\n",
    "try:\n",
    "    bilangan = int(bilangan)\n",
    "    if bilangan > 0:\n",
    "            print(\"Positif\")\n",
    "    elif bilangan < 0:\n",
    "        print(\"Negatif\")\n",
    "    elif bilangan == 0:\n",
    "        print(\"Nol\")\n",
    "except:\n",
    "    print(\"Inputan yang anda masukan  salah\")"
   ]
  },
  {
   "cell_type": "code",
   "execution_count": null,
   "metadata": {},
   "outputs": [],
   "source": [
    "#latihan 3.1\n",
    "a = input(\"Masukkan bilangan pertama: \")\n",
    "b = input(\"Masukkan bilangan kedua: \")\n",
    "c = input(\"Masukkan bilangan ketiga: \")\n",
    "\n",
    "try:\n",
    "    a = int(a)\n",
    "    b = int(b)\n",
    "    c = int(c)\n",
    "    if a > b and a > c:\n",
    "        print(\"Bilangan terbesar adalah \", a)\n",
    "\n",
    "    elif b > a and b > c:\n",
    "        print(\"Bilangan terbesar adalah \", b)\n",
    "        \n",
    "    elif c > a and c > b:\n",
    "        print(\"Bilangan terbesar adalah \", c)\n",
    "        \n",
    "except:\n",
    "    print(\"Inputan yang anda masukan salah\")"
   ]
  },
  {
   "cell_type": "code",
   "execution_count": 1,
   "metadata": {},
   "outputs": [
    {
     "ename": "IndentationError",
     "evalue": "expected an indented block after 'try' statement on line 3 (1307453705.py, line 4)",
     "output_type": "error",
     "traceback": [
      "\u001b[1;36m  Cell \u001b[1;32mIn[1], line 4\u001b[1;36m\u001b[0m\n\u001b[1;33m    print(\"Bilangan Positif\" if bilangan > 0 else \"Bilangan Negatif\")\u001b[0m\n\u001b[1;37m    ^\u001b[0m\n\u001b[1;31mIndentationError\u001b[0m\u001b[1;31m:\u001b[0m expected an indented block after 'try' statement on line 3\n"
     ]
    }
   ],
   "source": [
    "#latihan 3.2\n",
    "bilangan = int(input(\"Masukkan bilangan yang anda mau masukan: \"))\n",
    "print(\"Bilangan Positif\" if bilangan > 0 else \"Bilangan Negatif\")\n"
   ]
  },
  {
   "cell_type": "code",
   "execution_count": null,
   "metadata": {},
   "outputs": [],
   "source": [
    "#latihan 3.3\n",
    "inputuser = input(\"Masukan bulan yang diinginkan= \")\n",
    "try:\n",
    " bulan = int(inputuser)\n",
    " if bulan == 1 :\n",
    "  print(\"pada bulan januari ada 31 hari\")\n",
    " elif bulan == 2 : \n",
    "  print(\"pada bulan februari ada 28 hari\")\n",
    " elif bulan == 3:\n",
    "  print(\"pada bulan maret ada 31 hari\")\n",
    " elif bulan == 4:\n",
    "  print(\"pada bulan april ada 30 hari\")\n",
    " elif bulan == 5 :\n",
    "  print(\"pada bulan mei ada 31 hari\")\n",
    " elif bulan == 6 :\n",
    "  print(\"pada bulan juni ada 30 hari\")\n",
    " elif bulan == 7 :\n",
    "  print(\"pada bulan juli ada 31 hari\")\n",
    " elif bulan == 8 :\n",
    "  print(\"pada bulan agustus ada 31 hari\")\n",
    " elif bulan == 9 :\n",
    "  print(\"pada bulan september ada 30 hari\")\n",
    " elif bulan == 10 :\n",
    "  print(\"pada bulan oktober ada 31 hari\")\n",
    " elif bulan == 11 :\n",
    "  print(\"pada bulan november ada 30 hari\")\n",
    " elif bulan == 12 :\n",
    "  print(\"pada bulan desember ada 31 hari\")\n",
    " elif bulan > 12 :\n",
    "  print('bulan tersebut tidak ada dalam kalender')\n",
    " elif bulan < 1 :\n",
    "  print('bulan tersebut tidak ada dalam kalender')\n",
    "except :\n",
    " print(\"salah format\")"
   ]
  },
  {
   "cell_type": "code",
   "execution_count": null,
   "metadata": {},
   "outputs": [],
   "source": [
    "#latihan 3.4\n",
    "bilangan1 = int(input(\"Masukan bilangan 1= \"))\n",
    "bilangan2 = int(input(\"Masukan bilangan 2= \"))\n",
    "bilangan3 = int(input(\"Masukan bilangan 3= \"))\n",
    "\n",
    "if bilangan1 == bilangan2 == bilangan3:\n",
    "    print(\"3 sisi sama\")\n",
    "elif bilangan1 == bilangan2 or bilangan1 == bilangan3 or bilangan2 == bilangan3:\n",
    "    print(\"2 sisi sama\")\n",
    "else:\n",
    "    print(\"tidak ada yang sama\")"
   ]
  }
 ],
 "metadata": {
  "kernelspec": {
   "display_name": "Python 3",
   "language": "python",
   "name": "python3"
  },
  "language_info": {
   "codemirror_mode": {
    "name": "ipython",
    "version": 3
   },
   "file_extension": ".py",
   "mimetype": "text/x-python",
   "name": "python",
   "nbconvert_exporter": "python",
   "pygments_lexer": "ipython3",
   "version": "3.12.0"
  }
 },
 "nbformat": 4,
 "nbformat_minor": 2
}
