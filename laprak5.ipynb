{
 "cells": [
  {
   "cell_type": "code",
   "execution_count": 1,
   "metadata": {},
   "outputs": [
    {
     "name": "stdout",
     "output_type": "stream",
     "text": [
      "5 x 6 = 5 + 5 + 5 + 5 + 5 + 5 = 30\n"
     ]
    }
   ],
   "source": [
    "def perkalian(a, b):\n",
    "    result = 0\n",
    "    for _ in range(b):\n",
    "        result += a\n",
    "    return result\n",
    "\n",
    "def main():\n",
    "    while True:\n",
    "        try:\n",
    "            angka1 = int(input(\"Masukkan angka pertama: \"))\n",
    "            angka2 = int(input(\"Masukkan angka kedua: \"))\n",
    "            if angka1 < 0 or angka2 < 0:\n",
    "                raise ValueError(\"Angka harus positif\")\n",
    "            break\n",
    "        except ValueError as e:\n",
    "            print(\"Input tidak valid:\", e)\n",
    "\n",
    "    hasil = perkalian(angka1, angka2)\n",
    "    print(f\"{angka1} x {angka2} = {' + '.join(str(angka1) for _ in range(angka2))} = {hasil}\")\n",
    "\n",
    "if __name__ == \"__main__\":\n",
    "    main()\n"
   ]
  },
  {
   "cell_type": "code",
   "execution_count": 5,
   "metadata": {},
   "outputs": [
    {
     "name": "stdout",
     "output_type": "stream",
     "text": [
      "Deret bilangan ganjil antara 98 dan 3: 3, 5, 7, 9, 11, 13, 15, 17, 19, 21, 23, 25, 27, 29, 31, 33, 35, 37, 39, 41, 43, 45, 47, 49, 51, 53, 55, 57, 59, 61, 63, 65, 67, 69, 71, 73, 75, 77, 79, 81, 83, 85, 87, 89, 91, 93, 95, 97\n"
     ]
    }
   ],
   "source": [
    "def ganjil(bawah, atas):\n",
    "    if bawah < atas:\n",
    "        return [num for num in range(bawah, atas + 1) if num % 2 != 0]\n",
    "    else:\n",
    "        return [num for num in range(atas, bawah + 1) if num % 2 != 0]\n",
    "\n",
    "def main():\n",
    "    while True:\n",
    "        try:\n",
    "            bawah = int(input(\"Masukkan batas bawah: \"))\n",
    "            atas = int(input(\"Masukkan batas atas: \"))\n",
    "            break\n",
    "        except ValueError:\n",
    "            print(\"Input harus berupa bilangan bulat\")\n",
    "\n",
    "    hasil = ganjil(bawah, atas)\n",
    "    if bawah > atas:\n",
    "        print(f\"Deret bilangan ganjil antara {bawah} dan {atas}: {', '.join(str(num) for num in hasil)}\")\n",
    "    else:\n",
    "        print(f\"Deret bilangan ganjil antara {atas} dan {bawah}: {', '.join(str(num) for num in hasil)}\")\n",
    "\n",
    "if __name__ == \"__main__\":\n",
    "    main()\n"
   ]
  },
  {
   "cell_type": "code",
   "execution_count": null,
   "metadata": {},
   "outputs": [],
   "source": []
  }
 ],
 "metadata": {
  "kernelspec": {
   "display_name": "Python 3",
   "language": "python",
   "name": "python3"
  },
  "language_info": {
   "codemirror_mode": {
    "name": "ipython",
    "version": 3
   },
   "file_extension": ".py",
   "mimetype": "text/x-python",
   "name": "python",
   "nbconvert_exporter": "python",
   "pygments_lexer": "ipython3",
   "version": "3.12.0"
  }
 },
 "nbformat": 4,
 "nbformat_minor": 2
}
