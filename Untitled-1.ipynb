{
 "cells": [
  {
   "cell_type": "code",
   "execution_count": null,
   "metadata": {},
   "outputs": [],
   "source": [
    "suhu= input(\"Masukkan suhu tubuh: \")\n",
    "\n",
    "try:\n",
    "    suhu = int(suhu)\n",
    "    if suhu >= 36:\n",
    "        print(\"Anda demam\")\n",
    "    else:\n",
    "        print(\"Anda tidak demam\")\n",
    "        \n",
    "except:\n",
    "    print(\"Inputan yang anda masukan salah\")"
   ]
  },
  {
   "cell_type": "code",
   "execution_count": null,
   "metadata": {},
   "outputs": [],
   "source": [
    "bilangan = input(\"Masukkan suatu bilangan: \")\n",
    "\n",
    "try:\n",
    "    bilangan = int(bilangan)\n",
    "    if bilangan > 0:\n",
    "            print(\"Positif\")\n",
    "    elif bilangan < 0:\n",
    "        print(\"Negatif\")\n",
    "    elif bilangan == 0:\n",
    "        print(\"Nol\")\n",
    "except:\n",
    "    print(\"Inputan yang anda masukan  salah\")"
   ]
  },
  {
   "cell_type": "code",
   "execution_count": null,
   "metadata": {},
   "outputs": [],
   "source": [
    "a = input(\"Masukkan bilangan pertama: \")\n",
    "b = input(\"Masukkan bilangan kedua: \")\n",
    "c = input(\"Masukkan bilangan ketiga: \")\n",
    "\n",
    "try:\n",
    "    a = int(a)\n",
    "    b = int(b)\n",
    "    c = int(c)\n",
    "    if a > b and a > c:\n",
    "        print(\"Bilangan terbesar adalah \", a)\n",
    "\n",
    "    elif b > a and b > c:\n",
    "        print(\"Bilangan terbesar adalah \", b)\n",
    "        \n",
    "    elif c > a and c > b:\n",
    "        print(\"Bilangan terbesar adalah \", c)\n",
    "        \n",
    "except:\n",
    "    print(\"Inputan yang anda masukan salah\")"
   ]
  },
  {
   "cell_type": "code",
   "execution_count": null,
   "metadata": {},
   "outputs": [],
   "source": [
    "bilangan = int(input(\"Masukkan bilangan yang anda mau masukan: \"))\n",
    "\n",
    "if bilangan > 0:\n",
    "    print(\" Bilangan Positif\")\n",
    "    \n",
    "else:\n",
    "    print(\" Bilangan Negatif\")"
   ]
  },
  {
   "cell_type": "code",
   "execution_count": null,
   "metadata": {},
   "outputs": [],
   "source": []
  }
 ],
 "metadata": {
  "kernelspec": {
   "display_name": "Python 3",
   "language": "python",
   "name": "python3"
  },
  "language_info": {
   "codemirror_mode": {
    "name": "ipython",
    "version": 3
   },
   "file_extension": ".py",
   "mimetype": "text/x-python",
   "name": "python",
   "nbconvert_exporter": "python",
   "pygments_lexer": "ipython3",
   "version": "3.12.0"
  }
 },
 "nbformat": 4,
 "nbformat_minor": 2
}
